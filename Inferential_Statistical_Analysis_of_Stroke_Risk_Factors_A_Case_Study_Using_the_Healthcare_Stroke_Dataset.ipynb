{
  "nbformat": 4,
  "nbformat_minor": 0,
  "metadata": {
    "colab": {
      "provenance": []
    },
    "kernelspec": {
      "name": "python3",
      "display_name": "Python 3"
    },
    "language_info": {
      "name": "python"
    }
  },
  "cells": [
    {
      "cell_type": "code",
      "execution_count": 1,
      "metadata": {
        "colab": {
          "base_uri": "https://localhost:8080/"
        },
        "id": "vX_ysnm_G7Gx",
        "outputId": "e6b12241-853c-4c9b-9e26-74c442311a41"
      },
      "outputs": [
        {
          "output_type": "stream",
          "name": "stdout",
          "text": [
            "Libraries imported successfully!\n"
          ]
        }
      ],
      "source": [
        "# Cell 1: Imports and Setup\n",
        "import pandas as pd\n",
        "import numpy as np\n",
        "from scipy import stats\n",
        "import statsmodels.api as sm\n",
        "from statsmodels.stats.multicomp import pairwise_tukeyhsd\n",
        "import matplotlib.pyplot as plt\n",
        "import seaborn as sns\n",
        "from google.colab import files\n",
        "import warnings\n",
        "warnings.filterwarnings('ignore')\n",
        "\n",
        "print(\"Libraries imported successfully!\")"
      ]
    },
    {
      "cell_type": "markdown",
      "source": [
        "**[Direct Dataset Loading ](https://raw.githubusercontent.com/rupakroy/healthcare-dataset-stroke-data/master/healthcare-dataset-stroke-data.csv)**"
      ],
      "metadata": {
        "id": "Wuwa5xsrHh0t"
      }
    },
    {
      "cell_type": "code",
      "source": [
        "url = 'https://raw.githubusercontent.com/rupakroy/healthcare-dataset-stroke-data/master/healthcare-dataset-stroke-data.csv'\n",
        "try:\n",
        "    df = pd.read_csv(url)\n",
        "    print(f\"Dataset loaded successfully! Shape: {df.shape}\")\n",
        "    print(\"\\nFirst 5 rows:\")\n",
        "    print(df.head())\n",
        "    print(\"\\nColumns:\", df.columns.tolist())\n",
        "except Exception as e:\n",
        "    print(f\"Error loading dataset: {e}\")\n",
        "    print(\"Fallback: Manually upload if needed.\")\n",
        "    uploaded = files.upload()\n",
        "    df = pd.read_csv(list(uploaded.keys())[0])\n",
        "\n",
        "# Data Cleaning\n",
        "# Drop rows with invalid gender (e.g., 'Other' if present)\n",
        "df = df[df['gender'].isin(['Male', 'Female'])]\n",
        "# Impute missing BMI with median\n",
        "median_bmi = df['bmi'].median()\n",
        "df['bmi'].fillna(median_bmi, inplace=True)\n",
        "# Filter for ANOVA: Exclude 'Unknown' smoking_status\n",
        "df_anova = df[df['smoking_status'] != 'Unknown'].copy()\n",
        "\n",
        "print(f\"\\nCleaning complete. Final shape: {df.shape}\")\n",
        "print(f\"Missing BMI imputed with median: {median_bmi}\")\n",
        "print(\"Smoking status distribution for ANOVA:\")\n",
        "print(df_anova['smoking_status'].value_counts())"
      ],
      "metadata": {
        "colab": {
          "base_uri": "https://localhost:8080/",
          "height": 261
        },
        "id": "22PnPquNHd53",
        "outputId": "cca9a791-956f-4a71-ad63-0f53edc60ccd"
      },
      "execution_count": 2,
      "outputs": [
        {
          "output_type": "stream",
          "name": "stdout",
          "text": [
            "Error loading dataset: HTTP Error 404: Not Found\n",
            "Fallback: Manually upload if needed.\n"
          ]
        },
        {
          "output_type": "display_data",
          "data": {
            "text/plain": [
              "<IPython.core.display.HTML object>"
            ],
            "text/html": [
              "\n",
              "     <input type=\"file\" id=\"files-594a4265-e122-43a1-aa42-c4dbbb0fc991\" name=\"files[]\" multiple disabled\n",
              "        style=\"border:none\" />\n",
              "     <output id=\"result-594a4265-e122-43a1-aa42-c4dbbb0fc991\">\n",
              "      Upload widget is only available when the cell has been executed in the\n",
              "      current browser session. Please rerun this cell to enable.\n",
              "      </output>\n",
              "      <script>// Copyright 2017 Google LLC\n",
              "//\n",
              "// Licensed under the Apache License, Version 2.0 (the \"License\");\n",
              "// you may not use this file except in compliance with the License.\n",
              "// You may obtain a copy of the License at\n",
              "//\n",
              "//      http://www.apache.org/licenses/LICENSE-2.0\n",
              "//\n",
              "// Unless required by applicable law or agreed to in writing, software\n",
              "// distributed under the License is distributed on an \"AS IS\" BASIS,\n",
              "// WITHOUT WARRANTIES OR CONDITIONS OF ANY KIND, either express or implied.\n",
              "// See the License for the specific language governing permissions and\n",
              "// limitations under the License.\n",
              "\n",
              "/**\n",
              " * @fileoverview Helpers for google.colab Python module.\n",
              " */\n",
              "(function(scope) {\n",
              "function span(text, styleAttributes = {}) {\n",
              "  const element = document.createElement('span');\n",
              "  element.textContent = text;\n",
              "  for (const key of Object.keys(styleAttributes)) {\n",
              "    element.style[key] = styleAttributes[key];\n",
              "  }\n",
              "  return element;\n",
              "}\n",
              "\n",
              "// Max number of bytes which will be uploaded at a time.\n",
              "const MAX_PAYLOAD_SIZE = 100 * 1024;\n",
              "\n",
              "function _uploadFiles(inputId, outputId) {\n",
              "  const steps = uploadFilesStep(inputId, outputId);\n",
              "  const outputElement = document.getElementById(outputId);\n",
              "  // Cache steps on the outputElement to make it available for the next call\n",
              "  // to uploadFilesContinue from Python.\n",
              "  outputElement.steps = steps;\n",
              "\n",
              "  return _uploadFilesContinue(outputId);\n",
              "}\n",
              "\n",
              "// This is roughly an async generator (not supported in the browser yet),\n",
              "// where there are multiple asynchronous steps and the Python side is going\n",
              "// to poll for completion of each step.\n",
              "// This uses a Promise to block the python side on completion of each step,\n",
              "// then passes the result of the previous step as the input to the next step.\n",
              "function _uploadFilesContinue(outputId) {\n",
              "  const outputElement = document.getElementById(outputId);\n",
              "  const steps = outputElement.steps;\n",
              "\n",
              "  const next = steps.next(outputElement.lastPromiseValue);\n",
              "  return Promise.resolve(next.value.promise).then((value) => {\n",
              "    // Cache the last promise value to make it available to the next\n",
              "    // step of the generator.\n",
              "    outputElement.lastPromiseValue = value;\n",
              "    return next.value.response;\n",
              "  });\n",
              "}\n",
              "\n",
              "/**\n",
              " * Generator function which is called between each async step of the upload\n",
              " * process.\n",
              " * @param {string} inputId Element ID of the input file picker element.\n",
              " * @param {string} outputId Element ID of the output display.\n",
              " * @return {!Iterable<!Object>} Iterable of next steps.\n",
              " */\n",
              "function* uploadFilesStep(inputId, outputId) {\n",
              "  const inputElement = document.getElementById(inputId);\n",
              "  inputElement.disabled = false;\n",
              "\n",
              "  const outputElement = document.getElementById(outputId);\n",
              "  outputElement.innerHTML = '';\n",
              "\n",
              "  const pickedPromise = new Promise((resolve) => {\n",
              "    inputElement.addEventListener('change', (e) => {\n",
              "      resolve(e.target.files);\n",
              "    });\n",
              "  });\n",
              "\n",
              "  const cancel = document.createElement('button');\n",
              "  inputElement.parentElement.appendChild(cancel);\n",
              "  cancel.textContent = 'Cancel upload';\n",
              "  const cancelPromise = new Promise((resolve) => {\n",
              "    cancel.onclick = () => {\n",
              "      resolve(null);\n",
              "    };\n",
              "  });\n",
              "\n",
              "  // Wait for the user to pick the files.\n",
              "  const files = yield {\n",
              "    promise: Promise.race([pickedPromise, cancelPromise]),\n",
              "    response: {\n",
              "      action: 'starting',\n",
              "    }\n",
              "  };\n",
              "\n",
              "  cancel.remove();\n",
              "\n",
              "  // Disable the input element since further picks are not allowed.\n",
              "  inputElement.disabled = true;\n",
              "\n",
              "  if (!files) {\n",
              "    return {\n",
              "      response: {\n",
              "        action: 'complete',\n",
              "      }\n",
              "    };\n",
              "  }\n",
              "\n",
              "  for (const file of files) {\n",
              "    const li = document.createElement('li');\n",
              "    li.append(span(file.name, {fontWeight: 'bold'}));\n",
              "    li.append(span(\n",
              "        `(${file.type || 'n/a'}) - ${file.size} bytes, ` +\n",
              "        `last modified: ${\n",
              "            file.lastModifiedDate ? file.lastModifiedDate.toLocaleDateString() :\n",
              "                                    'n/a'} - `));\n",
              "    const percent = span('0% done');\n",
              "    li.appendChild(percent);\n",
              "\n",
              "    outputElement.appendChild(li);\n",
              "\n",
              "    const fileDataPromise = new Promise((resolve) => {\n",
              "      const reader = new FileReader();\n",
              "      reader.onload = (e) => {\n",
              "        resolve(e.target.result);\n",
              "      };\n",
              "      reader.readAsArrayBuffer(file);\n",
              "    });\n",
              "    // Wait for the data to be ready.\n",
              "    let fileData = yield {\n",
              "      promise: fileDataPromise,\n",
              "      response: {\n",
              "        action: 'continue',\n",
              "      }\n",
              "    };\n",
              "\n",
              "    // Use a chunked sending to avoid message size limits. See b/62115660.\n",
              "    let position = 0;\n",
              "    do {\n",
              "      const length = Math.min(fileData.byteLength - position, MAX_PAYLOAD_SIZE);\n",
              "      const chunk = new Uint8Array(fileData, position, length);\n",
              "      position += length;\n",
              "\n",
              "      const base64 = btoa(String.fromCharCode.apply(null, chunk));\n",
              "      yield {\n",
              "        response: {\n",
              "          action: 'append',\n",
              "          file: file.name,\n",
              "          data: base64,\n",
              "        },\n",
              "      };\n",
              "\n",
              "      let percentDone = fileData.byteLength === 0 ?\n",
              "          100 :\n",
              "          Math.round((position / fileData.byteLength) * 100);\n",
              "      percent.textContent = `${percentDone}% done`;\n",
              "\n",
              "    } while (position < fileData.byteLength);\n",
              "  }\n",
              "\n",
              "  // All done.\n",
              "  yield {\n",
              "    response: {\n",
              "      action: 'complete',\n",
              "    }\n",
              "  };\n",
              "}\n",
              "\n",
              "scope.google = scope.google || {};\n",
              "scope.google.colab = scope.google.colab || {};\n",
              "scope.google.colab._files = {\n",
              "  _uploadFiles,\n",
              "  _uploadFilesContinue,\n",
              "};\n",
              "})(self);\n",
              "</script> "
            ]
          },
          "metadata": {}
        },
        {
          "output_type": "stream",
          "name": "stdout",
          "text": [
            "Saving healthcare-dataset-stroke-data.csv to healthcare-dataset-stroke-data.csv\n",
            "\n",
            "Cleaning complete. Final shape: (5109, 12)\n",
            "Missing BMI imputed with median: 28.1\n",
            "Smoking status distribution for ANOVA:\n",
            "smoking_status\n",
            "never smoked       1892\n",
            "formerly smoked     884\n",
            "smokes              789\n",
            "Name: count, dtype: int64\n"
          ]
        }
      ]
    },
    {
      "cell_type": "code",
      "source": [
        "# Cell 3: Descriptive Statistics\n",
        "print(\"Descriptive Statistics for Key Variables:\")\n",
        "desc_stats = df[['age', 'avg_glucose_level', 'bmi']].describe()\n",
        "print(desc_stats)\n",
        "\n",
        "# By Stroke for two-sample test\n",
        "print(\"\\nBMI by Stroke Status:\")\n",
        "stroke_summary = df.groupby('stroke')['bmi'].agg(['count', 'mean', 'std']).round(2)\n",
        "print(stroke_summary)\n",
        "\n",
        "# By Smoking Status for ANOVA\n",
        "print(\"\\nAge by Smoking Status:\")\n",
        "smoking_summary = df_anova.groupby('smoking_status')['age'].agg(['count', 'mean', 'std']).round(2)\n",
        "print(smoking_summary)"
      ],
      "metadata": {
        "colab": {
          "base_uri": "https://localhost:8080/"
        },
        "id": "o1LuaHE1H_S0",
        "outputId": "164a912e-ac3d-492e-9477-b1e42f3091b2"
      },
      "execution_count": 3,
      "outputs": [
        {
          "output_type": "stream",
          "name": "stdout",
          "text": [
            "Descriptive Statistics for Key Variables:\n",
            "               age  avg_glucose_level          bmi\n",
            "count  5109.000000        5109.000000  5109.000000\n",
            "mean     43.229986         106.140399    28.863300\n",
            "std      22.613575          45.285004     7.699785\n",
            "min       0.080000          55.120000    10.300000\n",
            "25%      25.000000          77.240000    23.800000\n",
            "50%      45.000000          91.880000    28.100000\n",
            "75%      61.000000         114.090000    32.800000\n",
            "max      82.000000         271.740000    97.600000\n",
            "\n",
            "BMI by Stroke Status:\n",
            "        count   mean   std\n",
            "stroke                    \n",
            "0        4860  28.80  7.78\n",
            "1         249  30.09  5.86\n",
            "\n",
            "Age by Smoking Status:\n",
            "                 count   mean    std\n",
            "smoking_status                      \n",
            "formerly smoked    884  54.96  17.62\n",
            "never smoked      1892  46.74  19.77\n",
            "smokes             789  47.10  16.41\n"
          ]
        }
      ]
    },
    {
      "cell_type": "code",
      "source": [
        "# Cell 4: One-Sample t-Test (Avg Glucose vs 100 mg/dL)\n",
        "glucose_data = df['avg_glucose_level']\n",
        "glucose_mean = glucose_data.mean()\n",
        "t_stat_glucose, p_val_glucose = stats.ttest_1samp(glucose_data, popmean=100)\n",
        "\n",
        "# 95% CI for mean\n",
        "se_glucose = glucose_data.std() / np.sqrt(len(glucose_data))\n",
        "ci_lower_glucose = glucose_mean - 1.96 * se_glucose\n",
        "ci_upper_glucose = glucose_mean + 1.96 * se_glucose\n",
        "\n",
        "print(\"\\n=== One-Sample t-Test: Avg Glucose Level vs 100 mg/dL ===\")\n",
        "print(f\"Mean Glucose: {glucose_mean:.2f} mg/dL\")\n",
        "print(f\"t-statistic: {t_stat_glucose:.4f}\")\n",
        "print(f\"p-value: {p_val_glucose:.4f}\")\n",
        "print(f\"95% CI for Mean: [{ci_lower_glucose:.2f}, {ci_upper_glucose:.2f}]\")\n",
        "if p_val_glucose < 0.05:\n",
        "    print(\"Result: Reject H0 - Mean significantly differs from 100 mg/dL (elevated).\")\n",
        "else:\n",
        "    print(\"Result: Fail to reject H0.\")"
      ],
      "metadata": {
        "colab": {
          "base_uri": "https://localhost:8080/"
        },
        "id": "pBT2GRvuIJNk",
        "outputId": "2a0e190d-f95f-495c-df1d-07d0378b2023"
      },
      "execution_count": 4,
      "outputs": [
        {
          "output_type": "stream",
          "name": "stdout",
          "text": [
            "\n",
            "=== One-Sample t-Test: Avg Glucose Level vs 100 mg/dL ===\n",
            "Mean Glucose: 106.14 mg/dL\n",
            "t-statistic: 9.6919\n",
            "p-value: 0.0000\n",
            "95% CI for Mean: [104.90, 107.38]\n",
            "Result: Reject H0 - Mean significantly differs from 100 mg/dL (elevated).\n"
          ]
        }
      ]
    },
    {
      "cell_type": "code",
      "source": [
        "# Cell 5: Two-Sample t-Test (BMI: Stroke vs Non-Stroke)\n",
        "stroke_bmi = df[df['stroke'] == 1]['bmi']\n",
        "nonstroke_bmi = df[df['stroke'] == 0]['bmi']\n",
        "t_stat_bmi, p_val_bmi = stats.ttest_ind(stroke_bmi, nonstroke_bmi, equal_var=False)  # Welch's\n",
        "\n",
        "# 95% CI for difference\n",
        "diff_mean_bmi = stroke_bmi.mean() - nonstroke_bmi.mean()\n",
        "se_diff_bmi = np.sqrt(stroke_bmi.var()/len(stroke_bmi) + nonstroke_bmi.var()/len(nonstroke_bmi))\n",
        "ci_lower_bmi = diff_mean_bmi - 1.96 * se_diff_bmi\n",
        "ci_upper_bmi = diff_mean_bmi + 1.96 * se_diff_bmi\n",
        "\n",
        "print(\"\\n=== Two-Sample t-Test: BMI (Stroke vs Non-Stroke) ===\")\n",
        "print(f\"Stroke BMI Mean (n={len(stroke_bmi)}): {stroke_bmi.mean():.2f}\")\n",
        "print(f\"Non-Stroke BMI Mean (n={len(nonstroke_bmi)}): {nonstroke_bmi.mean():.2f}\")\n",
        "print(f\"t-statistic: {t_stat_bmi:.4f}\")\n",
        "print(f\"p-value: {p_val_bmi:.4f}\")\n",
        "print(f\"95% CI for Difference: [{ci_lower_bmi:.2f}, {ci_upper_bmi:.2f}]\")\n",
        "if p_val_bmi < 0.05:\n",
        "    print(\"Result: Reject H0 - Significant difference (higher BMI in stroke group).\")\n",
        "else:\n",
        "    print(\"Result: Fail to reject H0.\")\n",
        ""
      ],
      "metadata": {
        "colab": {
          "base_uri": "https://localhost:8080/"
        },
        "id": "G_KtpYNbIK2V",
        "outputId": "ab9a08c5-e6b5-4f28-fecf-928569f1a161"
      },
      "execution_count": 5,
      "outputs": [
        {
          "output_type": "stream",
          "name": "stdout",
          "text": [
            "\n",
            "=== Two-Sample t-Test: BMI (Stroke vs Non-Stroke) ===\n",
            "Stroke BMI Mean (n=249): 30.09\n",
            "Non-Stroke BMI Mean (n=4860): 28.80\n",
            "t-statistic: 3.3257\n",
            "p-value: 0.0010\n",
            "95% CI for Difference: [0.53, 2.05]\n",
            "Result: Reject H0 - Significant difference (higher BMI in stroke group).\n"
          ]
        }
      ]
    },
    {
      "cell_type": "code",
      "source": [
        "# Cell 6: One-Way ANOVA (Age across Smoking Status) + Post-Hoc Tukey HSD\n",
        "# ANOVA\n",
        "groups = [df_anova[df_anova['smoking_status'] == status]['age'].values\n",
        "          for status in ['never smoked', 'formerly smoked', 'smokes']]\n",
        "f_stat, p_val_anova = stats.f_oneway(*groups)\n",
        "\n",
        "print(\"\\n=== One-Way ANOVA: Age across Smoking Status ===\")\n",
        "print(f\"F-statistic: {f_stat:.2f}\")\n",
        "print(f\"p-value: {p_val_anova:.4f}\")\n",
        "group_means = {status: np.mean(group) for status, group in zip(['never smoked', 'formerly smoked', 'smokes'], groups)}\n",
        "print(\"Group Means:\", group_means)\n",
        "if p_val_anova < 0.05:\n",
        "    print(\"Result: Reject H0 - Significant differences across groups.\")\n",
        "else:\n",
        "    print(\"Result: Fail to reject H0.\")\n",
        "\n",
        "# Post-hoc Tukey HSD (only if ANOVA significant)\n",
        "if p_val_anova < 0.05:\n",
        "    tukey = pairwise_tukeyhsd(endog=df_anova['age'], groups=df_anova['smoking_status'], alpha=0.05)\n",
        "    print(\"\\n=== Tukey HSD Post-Hoc Results ===\")\n",
        "    print(tukey.summary())\n",
        "else:\n",
        "    print(\"No post-hoc needed.\")"
      ],
      "metadata": {
        "colab": {
          "base_uri": "https://localhost:8080/"
        },
        "id": "wENTwihzINX6",
        "outputId": "d051f203-8256-486d-a1f2-05380f66c658"
      },
      "execution_count": 6,
      "outputs": [
        {
          "output_type": "stream",
          "name": "stdout",
          "text": [
            "\n",
            "=== One-Way ANOVA: Age across Smoking Status ===\n",
            "F-statistic: 63.71\n",
            "p-value: 0.0000\n",
            "Group Means: {'never smoked': np.float64(46.744714587737846), 'formerly smoked': np.float64(54.96266968325792), 'smokes': np.float64(47.09632446134347)}\n",
            "Result: Reject H0 - Significant differences across groups.\n",
            "\n",
            "=== Tukey HSD Post-Hoc Results ===\n",
            "        Multiple Comparison of Means - Tukey HSD, FWER=0.05        \n",
            "===================================================================\n",
            "     group1        group2    meandiff p-adj   lower   upper  reject\n",
            "-------------------------------------------------------------------\n",
            "formerly smoked never smoked   -8.218    0.0 -9.9899  -6.446   True\n",
            "formerly smoked       smokes  -7.8663    0.0 -9.9965 -5.7362   True\n",
            "   never smoked       smokes   0.3516 0.8956 -1.4916  2.1948  False\n",
            "-------------------------------------------------------------------\n"
          ]
        }
      ]
    },
    {
      "cell_type": "code",
      "source": [
        "# Cell 7: Visualizations\n",
        "plt.style.use('default')\n",
        "fig, axes = plt.subplots(1, 2, figsize=(15, 6))\n",
        "\n",
        "# Boxplot: BMI by Stroke\n",
        "sns.boxplot(ax=axes[0], x='stroke', y='bmi', data=df)\n",
        "axes[0].set_title('BMI Distribution by Stroke Status')\n",
        "axes[0].set_xlabel('Stroke (0=No, 1=Yes)')\n",
        "axes[0].set_ylabel('BMI (kg/m²)')\n",
        "\n",
        "# Boxplot: Age by Smoking Status\n",
        "sns.boxplot(ax=axes[1], x='smoking_status', y='age', data=df_anova)\n",
        "axes[1].set_title('Age Distribution by Smoking Status')\n",
        "axes[1].set_xlabel('Smoking Status')\n",
        "axes[1].set_ylabel('Age (years)')\n",
        "plt.xticks(rotation=45)\n",
        "plt.tight_layout()\n",
        "plt.savefig('stroke_analysis_plots.png', dpi=300, bbox_inches='tight')\n",
        "plt.show()\n",
        "\n",
        "print(\"Plots saved as 'stroke_analysis_plots.png'\")"
      ],
      "metadata": {
        "colab": {
          "base_uri": "https://localhost:8080/",
          "height": 410
        },
        "id": "j0vO6VUdISI-",
        "outputId": "b3944695-ae28-4c8a-9ca5-6f635b90fe7d"
      },
      "execution_count": 7,
      "outputs": [
        {
          "output_type": "display_data",
          "data": {
            "text/plain": [
              "<Figure size 1500x600 with 2 Axes>"
            ],
            "image/png": "[encoded data removed]"
          },
          "metadata": {}
        },
        {
          "output_type": "stream",
          "name": "stdout",
          "text": [
            "Plots saved as 'stroke_analysis_plots.png'\n"
          ]
        }
      ]
    },
    {
      "cell_type": "code",
      "source": [
        "# Cell 8: Save Outputs for Submission\n",
        "# Save cleaned dataset to Excel with README\n",
        "output_excel = f\"Prejan_CaseStudy.xlsx\"\n",
        "with pd.ExcelWriter(output_excel, engine='openpyxl') as writer:\n",
        "    df.to_excel(writer, sheet_name='Data', index=False)\n",
        "    readme_df = pd.DataFrame({\n",
        "        'Variable': ['id', 'gender', 'age', 'hypertension', 'heart_disease', 'ever_married',\n",
        "                     'work_type', 'Residence_type', 'avg_glucose_level', 'bmi', 'smoking_status', 'stroke'],\n",
        "        'Description': ['Unique ID', 'Male/Female', 'Age in years', '1 if hypertensive (0/1)',\n",
        "                        '1 if heart disease (0/1)', 'Yes/No married', 'Job type (categorical)',\n",
        "                        'Urban/Rural', 'Average glucose level (mg/dL)', 'BMI (kg/m²)',\n",
        "                        'Smoking status (never smoked/formerly smoked/smokes/Unknown)', '1 if had stroke (0/1)'],\n",
        "        'Data Type': ['int', 'str', 'float', 'int', 'int', 'str', 'str', 'str', 'float', 'float', 'str', 'int'],\n",
        "        'Notes': ['', '', '', '', '', '', '', '', '', 'Imputed missing with median=28.7', 'Excluded Unknown for ANOVA', '']\n",
        "    })\n",
        "    readme_df.to_excel(writer, sheet_name='README', index=False)\n",
        "\n",
        "print(f\"Excel file saved: {output_excel}\")\n",
        "\n",
        "# Save results summary to text file (for SPSS comparison or report)\n",
        "results_txt = f\"Prejan_results.txt\"\n",
        "with open(results_txt, 'w') as f:\n",
        "    f.write(\"=== Inferential Statistics Results ===\\n\\n\")\n",
        "    f.write(\"One-Sample t-Test (Glucose vs 100 mg/dL):\\n\")\n",
        "    f.write(f\"Mean: {glucose_mean:.2f}, t={t_stat_glucose:.4f}, p={p_val_glucose:.4f}\\n\")\n",
        "    f.write(f\"95% CI: [{ci_lower_glucose:.2f}, {ci_upper_glucose:.2f}]\\n\\n\")\n",
        "    f.write(\"Two-Sample t-Test (BMI: Stroke vs Non-Stroke):\\n\")\n",
        "    f.write(f\"t={t_stat_bmi:.4f}, p={p_val_bmi:.4f}\\n\")\n",
        "    f.write(f\"95% CI Diff: [{ci_lower_bmi:.2f}, {ci_upper_bmi:.2f}]\\n\\n\")\n",
        "    f.write(\"One-Way ANOVA (Age by Smoking):\\n\")\n",
        "    f.write(f\"F={f_stat:.2f}, p={p_val_anova:.4f}\\n\")\n",
        "    f.write(\"Group Means: \" + str(group_means) + \"\\n\")\n",
        "    if p_val_anova < 0.05:\n",
        "        f.write(\"\\nTukey HSD:\\n\" + str(tukey.summary()) + \"\\n\")\n",
        "\n",
        "print(f\"Results text file saved: {results_txt}\")\n",
        "\n",
        "# Download files (runs in Colab)\n",
        "files.download(output_excel)\n",
        "files.download('stroke_analysis_plots.png')\n",
        "files.download(results_txt)\n",
        "print(\"Files downloaded! Ready for submission.\")"
      ],
      "metadata": {
        "colab": {
          "base_uri": "https://localhost:8080/",
          "height": 69
        },
        "id": "dJwSPndSIUPQ",
        "outputId": "c8a4a577-fc98-4961-c149-9282d7e899cd"
      },
      "execution_count": 8,
      "outputs": [
        {
          "output_type": "stream",
          "name": "stdout",
          "text": [
            "Excel file saved: [YourName]_CaseStudy.xlsx\n",
            "Results text file saved: [YourName]_results.txt\n"
          ]
        },
        {
          "output_type": "display_data",
          "data": {
            "text/plain": [
              "<IPython.core.display.Javascript object>"
            ],
            "application/javascript": [
              "\n",
              "    async function download(id, filename, size) {\n",
              "      if (!google.colab.kernel.accessAllowed) {\n",
              "        return;\n",
              "      }\n",
              "      const div = document.createElement('div');\n",
              "      const label = document.createElement('label');\n",
              "      label.textContent = `Downloading \"${filename}\": `;\n",
              "      div.appendChild(label);\n",
              "      const progress = document.createElement('progress');\n",
              "      progress.max = size;\n",
              "      div.appendChild(progress);\n",
              "      document.body.appendChild(div);\n",
              "\n",
              "      const buffers = [];\n",
              "      let downloaded = 0;\n",
              "\n",
              "      const channel = await google.colab.kernel.comms.open(id);\n",
              "      // Send a message to notify the kernel that we're ready.\n",
              "      channel.send({})\n",
              "\n",
              "      for await (const message of channel.messages) {\n",
              "        // Send a message to notify the kernel that we're ready.\n",
              "        channel.send({})\n",
              "        if (message.buffers) {\n",
              "          for (const buffer of message.buffers) {\n",
              "            buffers.push(buffer);\n",
              "            downloaded += buffer.byteLength;\n",
              "            progress.value = downloaded;\n",
              "          }\n",
              "        }\n",
              "      }\n",
              "      const blob = new Blob(buffers, {type: 'application/binary'});\n",
              "      const a = document.createElement('a');\n",
              "      a.href = window.URL.createObjectURL(blob);\n",
              "      a.download = filename;\n",
              "      div.appendChild(a);\n",
              "      a.click();\n",
              "      div.remove();\n",
              "    }\n",
              "  "
            ]
          },
          "metadata": {}
        },
        {
          "output_type": "display_data",
          "data": {
            "text/plain": [
              "<IPython.core.display.Javascript object>"
            ],
            "application/javascript": [
              "download(\"download_c2837c44-1bbe-4d90-bb9c-41c00e4df119\", \"[YourName]_CaseStudy.xlsx\", 288229)"
            ]
          },
          "metadata": {}
        },
        {
          "output_type": "display_data",
          "data": {
            "text/plain": [
              "<IPython.core.display.Javascript object>"
            ],
            "application/javascript": [
              "\n",
              "    async function download(id, filename, size) {\n",
              "      if (!google.colab.kernel.accessAllowed) {\n",
              "        return;\n",
              "      }\n",
              "      const div = document.createElement('div');\n",
              "      const label = document.createElement('label');\n",
              "      label.textContent = `Downloading \"${filename}\": `;\n",
              "      div.appendChild(label);\n",
              "      const progress = document.createElement('progress');\n",
              "      progress.max = size;\n",
              "      div.appendChild(progress);\n",
              "      document.body.appendChild(div);\n",
              "\n",
              "      const buffers = [];\n",
              "      let downloaded = 0;\n",
              "\n",
              "      const channel = await google.colab.kernel.comms.open(id);\n",
              "      // Send a message to notify the kernel that we're ready.\n",
              "      channel.send({})\n",
              "\n",
              "      for await (const message of channel.messages) {\n",
              "        // Send a message to notify the kernel that we're ready.\n",
              "        channel.send({})\n",
              "        if (message.buffers) {\n",
              "          for (const buffer of message.buffers) {\n",
              "            buffers.push(buffer);\n",
              "            downloaded += buffer.byteLength;\n",
              "            progress.value = downloaded;\n",
              "          }\n",
              "        }\n",
              "      }\n",
              "      const blob = new Blob(buffers, {type: 'application/binary'});\n",
              "      const a = document.createElement('a');\n",
              "      a.href = window.URL.createObjectURL(blob);\n",
              "      a.download = filename;\n",
              "      div.appendChild(a);\n",
              "      a.click();\n",
              "      div.remove();\n",
              "    }\n",
              "  "
            ]
          },
          "metadata": {}
        },
        {
          "output_type": "display_data",
          "data": {
            "text/plain": [
              "<IPython.core.display.Javascript object>"
            ],
            "application/javascript": [
              "download(\"download_a974f004-515c-4bee-b0b8-2fbbd1ef292b\", \"stroke_analysis_plots.png\", 196292)"
            ]
          },
          "metadata": {}
        },
        {
          "output_type": "display_data",
          "data": {
            "text/plain": [
              "<IPython.core.display.Javascript object>"
            ],
            "application/javascript": [
              "\n",
              "    async function download(id, filename, size) {\n",
              "      if (!google.colab.kernel.accessAllowed) {\n",
              "        return;\n",
              "      }\n",
              "      const div = document.createElement('div');\n",
              "      const label = document.createElement('label');\n",
              "      label.textContent = `Downloading \"${filename}\": `;\n",
              "      div.appendChild(label);\n",
              "      const progress = document.createElement('progress');\n",
              "      progress.max = size;\n",
              "      div.appendChild(progress);\n",
              "      document.body.appendChild(div);\n",
              "\n",
              "      const buffers = [];\n",
              "      let downloaded = 0;\n",
              "\n",
              "      const channel = await google.colab.kernel.comms.open(id);\n",
              "      // Send a message to notify the kernel that we're ready.\n",
              "      channel.send({})\n",
              "\n",
              "      for await (const message of channel.messages) {\n",
              "        // Send a message to notify the kernel that we're ready.\n",
              "        channel.send({})\n",
              "        if (message.buffers) {\n",
              "          for (const buffer of message.buffers) {\n",
              "            buffers.push(buffer);\n",
              "            downloaded += buffer.byteLength;\n",
              "            progress.value = downloaded;\n",
              "          }\n",
              "        }\n",
              "      }\n",
              "      const blob = new Blob(buffers, {type: 'application/binary'});\n",
              "      const a = document.createElement('a');\n",
              "      a.href = window.URL.createObjectURL(blob);\n",
              "      a.download = filename;\n",
              "      div.appendChild(a);\n",
              "      a.click();\n",
              "      div.remove();\n",
              "    }\n",
              "  "
            ]
          },
          "metadata": {}
        },
        {
          "output_type": "display_data",
          "data": {
            "text/plain": [
              "<IPython.core.display.Javascript object>"
            ],
            "application/javascript": [
              "download(\"download_374f21b3-39a8-481a-9fbc-31343d01690f\", \"[YourName]_results.txt\", 993)"
            ]
          },
          "metadata": {}
        },
        {
          "output_type": "stream",
          "name": "stdout",
          "text": [
            "Files downloaded! Ready for submission.\n"
          ]
        }
      ]
    },
    {
      "cell_type": "code",
      "source": [],
      "metadata": {
        "id": "nmjTwinrIW3A"
      },
      "execution_count": null,
      "outputs": []
    }
  ]
}